{
  "nbformat": 4,
  "nbformat_minor": 0,
  "metadata": {
    "colab": {
      "provenance": []
    },
    "kernelspec": {
      "name": "python3",
      "display_name": "Python 3"
    },
    "language_info": {
      "name": "python"
    }
  },
  "cells": [
    {
      "cell_type": "code",
      "execution_count": 57,
      "metadata": {
        "id": "z16bdv__Owc_"
      },
      "outputs": [],
      "source": [
        "import pandas as pd\n",
        "import numpy as np\n",
        "\n",
        "#učitavanje dataseta direktno sa GitHub-a\n",
        "url = \"https://raw.githubusercontent.com/jldbc/coffee-quality-database/master/data/arabica_data_cleaned.csv\"\n",
        "df = pd.read_csv(url)"
      ]
    },
    {
      "cell_type": "code",
      "source": [
        "#prikaz prvih 5 redova\n",
        "df.head()\n",
        "#osnovne informacije o kolonama\n",
        "df.info()"
      ],
      "metadata": {
        "colab": {
          "base_uri": "https://localhost:8080/"
        },
        "collapsed": true,
        "id": "prAPu7QRO2EV",
        "outputId": "9789b6a6-2ddb-40a9-88d7-9def7bcab482"
      },
      "execution_count": 38,
      "outputs": [
        {
          "output_type": "stream",
          "name": "stdout",
          "text": [
            "<class 'pandas.core.frame.DataFrame'>\n",
            "RangeIndex: 1311 entries, 0 to 1310\n",
            "Data columns (total 44 columns):\n",
            " #   Column                 Non-Null Count  Dtype  \n",
            "---  ------                 --------------  -----  \n",
            " 0   Unnamed: 0             1311 non-null   int64  \n",
            " 1   Species                1311 non-null   object \n",
            " 2   Owner                  1304 non-null   object \n",
            " 3   Country.of.Origin      1310 non-null   object \n",
            " 4   Farm.Name              955 non-null    object \n",
            " 5   Lot.Number             270 non-null    object \n",
            " 6   Mill                   1001 non-null   object \n",
            " 7   ICO.Number             1163 non-null   object \n",
            " 8   Company                1102 non-null   object \n",
            " 9   Altitude               1088 non-null   object \n",
            " 10  Region                 1254 non-null   object \n",
            " 11  Producer               1081 non-null   object \n",
            " 12  Number.of.Bags         1311 non-null   int64  \n",
            " 13  Bag.Weight             1311 non-null   object \n",
            " 14  In.Country.Partner     1311 non-null   object \n",
            " 15  Harvest.Year           1264 non-null   object \n",
            " 16  Grading.Date           1311 non-null   object \n",
            " 17  Owner.1                1304 non-null   object \n",
            " 18  Variety                1110 non-null   object \n",
            " 19  Processing.Method      1159 non-null   object \n",
            " 20  Aroma                  1311 non-null   float64\n",
            " 21  Flavor                 1311 non-null   float64\n",
            " 22  Aftertaste             1311 non-null   float64\n",
            " 23  Acidity                1311 non-null   float64\n",
            " 24  Body                   1311 non-null   float64\n",
            " 25  Balance                1311 non-null   float64\n",
            " 26  Uniformity             1311 non-null   float64\n",
            " 27  Clean.Cup              1311 non-null   float64\n",
            " 28  Sweetness              1311 non-null   float64\n",
            " 29  Cupper.Points          1311 non-null   float64\n",
            " 30  Total.Cup.Points       1311 non-null   float64\n",
            " 31  Moisture               1311 non-null   float64\n",
            " 32  Category.One.Defects   1311 non-null   int64  \n",
            " 33  Quakers                1310 non-null   float64\n",
            " 34  Color                  1044 non-null   object \n",
            " 35  Category.Two.Defects   1311 non-null   int64  \n",
            " 36  Expiration             1311 non-null   object \n",
            " 37  Certification.Body     1311 non-null   object \n",
            " 38  Certification.Address  1311 non-null   object \n",
            " 39  Certification.Contact  1311 non-null   object \n",
            " 40  unit_of_measurement    1311 non-null   object \n",
            " 41  altitude_low_meters    1084 non-null   float64\n",
            " 42  altitude_high_meters   1084 non-null   float64\n",
            " 43  altitude_mean_meters   1084 non-null   float64\n",
            "dtypes: float64(16), int64(4), object(24)\n",
            "memory usage: 450.8+ KB\n"
          ]
        }
      ]
    },
    {
      "cell_type": "code",
      "source": [
        "#Provera nedostajućih vrednosti\n",
        "df.isnull().sum()\n"
      ],
      "metadata": {
        "colab": {
          "base_uri": "https://localhost:8080/",
          "height": 1000
        },
        "collapsed": true,
        "id": "X3mA2_QxO5Bs",
        "outputId": "39a4938a-8cc4-4db1-c7cc-bc87f121bd3e"
      },
      "execution_count": 39,
      "outputs": [
        {
          "output_type": "execute_result",
          "data": {
            "text/plain": [
              "Unnamed: 0                  0\n",
              "Species                     0\n",
              "Owner                       7\n",
              "Country.of.Origin           1\n",
              "Farm.Name                 356\n",
              "Lot.Number               1041\n",
              "Mill                      310\n",
              "ICO.Number                148\n",
              "Company                   209\n",
              "Altitude                  223\n",
              "Region                     57\n",
              "Producer                  230\n",
              "Number.of.Bags              0\n",
              "Bag.Weight                  0\n",
              "In.Country.Partner          0\n",
              "Harvest.Year               47\n",
              "Grading.Date                0\n",
              "Owner.1                     7\n",
              "Variety                   201\n",
              "Processing.Method         152\n",
              "Aroma                       0\n",
              "Flavor                      0\n",
              "Aftertaste                  0\n",
              "Acidity                     0\n",
              "Body                        0\n",
              "Balance                     0\n",
              "Uniformity                  0\n",
              "Clean.Cup                   0\n",
              "Sweetness                   0\n",
              "Cupper.Points               0\n",
              "Total.Cup.Points            0\n",
              "Moisture                    0\n",
              "Category.One.Defects        0\n",
              "Quakers                     1\n",
              "Color                     267\n",
              "Category.Two.Defects        0\n",
              "Expiration                  0\n",
              "Certification.Body          0\n",
              "Certification.Address       0\n",
              "Certification.Contact       0\n",
              "unit_of_measurement         0\n",
              "altitude_low_meters       227\n",
              "altitude_high_meters      227\n",
              "altitude_mean_meters      227\n",
              "dtype: int64"
            ],
            "text/html": [
              "<div>\n",
              "<style scoped>\n",
              "    .dataframe tbody tr th:only-of-type {\n",
              "        vertical-align: middle;\n",
              "    }\n",
              "\n",
              "    .dataframe tbody tr th {\n",
              "        vertical-align: top;\n",
              "    }\n",
              "\n",
              "    .dataframe thead th {\n",
              "        text-align: right;\n",
              "    }\n",
              "</style>\n",
              "<table border=\"1\" class=\"dataframe\">\n",
              "  <thead>\n",
              "    <tr style=\"text-align: right;\">\n",
              "      <th></th>\n",
              "      <th>0</th>\n",
              "    </tr>\n",
              "  </thead>\n",
              "  <tbody>\n",
              "    <tr>\n",
              "      <th>Unnamed: 0</th>\n",
              "      <td>0</td>\n",
              "    </tr>\n",
              "    <tr>\n",
              "      <th>Species</th>\n",
              "      <td>0</td>\n",
              "    </tr>\n",
              "    <tr>\n",
              "      <th>Owner</th>\n",
              "      <td>7</td>\n",
              "    </tr>\n",
              "    <tr>\n",
              "      <th>Country.of.Origin</th>\n",
              "      <td>1</td>\n",
              "    </tr>\n",
              "    <tr>\n",
              "      <th>Farm.Name</th>\n",
              "      <td>356</td>\n",
              "    </tr>\n",
              "    <tr>\n",
              "      <th>Lot.Number</th>\n",
              "      <td>1041</td>\n",
              "    </tr>\n",
              "    <tr>\n",
              "      <th>Mill</th>\n",
              "      <td>310</td>\n",
              "    </tr>\n",
              "    <tr>\n",
              "      <th>ICO.Number</th>\n",
              "      <td>148</td>\n",
              "    </tr>\n",
              "    <tr>\n",
              "      <th>Company</th>\n",
              "      <td>209</td>\n",
              "    </tr>\n",
              "    <tr>\n",
              "      <th>Altitude</th>\n",
              "      <td>223</td>\n",
              "    </tr>\n",
              "    <tr>\n",
              "      <th>Region</th>\n",
              "      <td>57</td>\n",
              "    </tr>\n",
              "    <tr>\n",
              "      <th>Producer</th>\n",
              "      <td>230</td>\n",
              "    </tr>\n",
              "    <tr>\n",
              "      <th>Number.of.Bags</th>\n",
              "      <td>0</td>\n",
              "    </tr>\n",
              "    <tr>\n",
              "      <th>Bag.Weight</th>\n",
              "      <td>0</td>\n",
              "    </tr>\n",
              "    <tr>\n",
              "      <th>In.Country.Partner</th>\n",
              "      <td>0</td>\n",
              "    </tr>\n",
              "    <tr>\n",
              "      <th>Harvest.Year</th>\n",
              "      <td>47</td>\n",
              "    </tr>\n",
              "    <tr>\n",
              "      <th>Grading.Date</th>\n",
              "      <td>0</td>\n",
              "    </tr>\n",
              "    <tr>\n",
              "      <th>Owner.1</th>\n",
              "      <td>7</td>\n",
              "    </tr>\n",
              "    <tr>\n",
              "      <th>Variety</th>\n",
              "      <td>201</td>\n",
              "    </tr>\n",
              "    <tr>\n",
              "      <th>Processing.Method</th>\n",
              "      <td>152</td>\n",
              "    </tr>\n",
              "    <tr>\n",
              "      <th>Aroma</th>\n",
              "      <td>0</td>\n",
              "    </tr>\n",
              "    <tr>\n",
              "      <th>Flavor</th>\n",
              "      <td>0</td>\n",
              "    </tr>\n",
              "    <tr>\n",
              "      <th>Aftertaste</th>\n",
              "      <td>0</td>\n",
              "    </tr>\n",
              "    <tr>\n",
              "      <th>Acidity</th>\n",
              "      <td>0</td>\n",
              "    </tr>\n",
              "    <tr>\n",
              "      <th>Body</th>\n",
              "      <td>0</td>\n",
              "    </tr>\n",
              "    <tr>\n",
              "      <th>Balance</th>\n",
              "      <td>0</td>\n",
              "    </tr>\n",
              "    <tr>\n",
              "      <th>Uniformity</th>\n",
              "      <td>0</td>\n",
              "    </tr>\n",
              "    <tr>\n",
              "      <th>Clean.Cup</th>\n",
              "      <td>0</td>\n",
              "    </tr>\n",
              "    <tr>\n",
              "      <th>Sweetness</th>\n",
              "      <td>0</td>\n",
              "    </tr>\n",
              "    <tr>\n",
              "      <th>Cupper.Points</th>\n",
              "      <td>0</td>\n",
              "    </tr>\n",
              "    <tr>\n",
              "      <th>Total.Cup.Points</th>\n",
              "      <td>0</td>\n",
              "    </tr>\n",
              "    <tr>\n",
              "      <th>Moisture</th>\n",
              "      <td>0</td>\n",
              "    </tr>\n",
              "    <tr>\n",
              "      <th>Category.One.Defects</th>\n",
              "      <td>0</td>\n",
              "    </tr>\n",
              "    <tr>\n",
              "      <th>Quakers</th>\n",
              "      <td>1</td>\n",
              "    </tr>\n",
              "    <tr>\n",
              "      <th>Color</th>\n",
              "      <td>267</td>\n",
              "    </tr>\n",
              "    <tr>\n",
              "      <th>Category.Two.Defects</th>\n",
              "      <td>0</td>\n",
              "    </tr>\n",
              "    <tr>\n",
              "      <th>Expiration</th>\n",
              "      <td>0</td>\n",
              "    </tr>\n",
              "    <tr>\n",
              "      <th>Certification.Body</th>\n",
              "      <td>0</td>\n",
              "    </tr>\n",
              "    <tr>\n",
              "      <th>Certification.Address</th>\n",
              "      <td>0</td>\n",
              "    </tr>\n",
              "    <tr>\n",
              "      <th>Certification.Contact</th>\n",
              "      <td>0</td>\n",
              "    </tr>\n",
              "    <tr>\n",
              "      <th>unit_of_measurement</th>\n",
              "      <td>0</td>\n",
              "    </tr>\n",
              "    <tr>\n",
              "      <th>altitude_low_meters</th>\n",
              "      <td>227</td>\n",
              "    </tr>\n",
              "    <tr>\n",
              "      <th>altitude_high_meters</th>\n",
              "      <td>227</td>\n",
              "    </tr>\n",
              "    <tr>\n",
              "      <th>altitude_mean_meters</th>\n",
              "      <td>227</td>\n",
              "    </tr>\n",
              "  </tbody>\n",
              "</table>\n",
              "</div><br><label><b>dtype:</b> int64</label>"
            ]
          },
          "metadata": {},
          "execution_count": 39
        }
      ]
    },
    {
      "cell_type": "code",
      "source": [
        "#Pretvaranje ocena u kategorije\n",
        "def oceni_kafu(score):\n",
        "    if score < 80:\n",
        "        return 'loša'\n",
        "    elif score < 85:\n",
        "        return 'srednja'\n",
        "    else:\n",
        "        return 'vrhunska'\n",
        "\n",
        "df['kategorija_kvaliteta'] = df['Total.Cup.Points'].apply(oceni_kafu)\n",
        "df = df.drop(columns=['Total.Cup.Points'])  # brišemo originalni score\n"
      ],
      "metadata": {
        "id": "mICfkzR_PAJx"
      },
      "execution_count": 40,
      "outputs": []
    },
    {
      "cell_type": "code",
      "source": [
        "#Ukloni nepotrebne kolone\n",
        "kolone_za_izbacivanje = [\n",
        "    'Species', 'Owner', 'Farm.Name', 'Lot.Number', 'Mill', 'ICO.Number', 'Company', 'Altitude',\n",
        "    'Producer', 'Bag.Weight', 'In.Country.Partner', 'Harvest.Year', 'Grading.Date', 'Owner.1',\n",
        "    'Expiration', 'Certification.Body', 'Certification.Address', 'Certification.Contact',\n",
        "    'unit_of_measurement', 'Country.of.Origin'\n",
        "]\n",
        "df = df.drop(columns=kolone_za_izbacivanje)"
      ],
      "metadata": {
        "id": "ca_2XbkKbozR"
      },
      "execution_count": 41,
      "outputs": []
    },
    {
      "cell_type": "code",
      "source": [
        "# Transformacija tekstualnih kolona u dummies\n",
        "# Grupisanje retkih regiona\n",
        "top_regions = df['Region'].value_counts().nlargest(10).index\n",
        "df['Region'] = df['Region'].apply(lambda x: x if x in top_regions else 'Other')\n",
        "\n",
        "# Transformacija u dummies\n",
        "df = pd.get_dummies(df, columns=['Region', 'Processing.Method', 'Variety', 'Color'], drop_first=True)\n"
      ],
      "metadata": {
        "id": "g38lF7jVO8M0"
      },
      "execution_count": 42,
      "outputs": []
    },
    {
      "cell_type": "code",
      "source": [
        "# Priprema ulaza i ciljne promenljive\n",
        "X = df.drop(columns=['kategorija_kvaliteta'])\n",
        "y = df['kategorija_kvaliteta']"
      ],
      "metadata": {
        "id": "rwMcate2d8vd"
      },
      "execution_count": 43,
      "outputs": []
    },
    {
      "cell_type": "code",
      "source": [
        "# Skaliranje numeričkih kolona\n",
        "\n",
        "from sklearn.preprocessing import StandardScaler\n",
        "\n",
        "\n",
        "numericke_kolone = ['Aroma', 'Flavor', 'Aftertaste', 'Acidity', 'Body', 'Balance', 'Uniformity', 'altitude_mean_meters']\n",
        "scaler = StandardScaler()\n",
        "X_scaled_num = scaler.fit_transform(X[numericke_kolone])\n",
        "X_scaled_num = pd.DataFrame(X_scaled_num, columns=numericke_kolone)"
      ],
      "metadata": {
        "id": "rj_8fKB_PEnt"
      },
      "execution_count": 44,
      "outputs": []
    },
    {
      "cell_type": "code",
      "source": [
        "X_dummies = X.drop(columns=numericke_kolone)\n",
        "X_final = pd.concat([X_scaled_num.reset_index(drop=True), X_dummies.reset_index(drop=True)], axis=1)"
      ],
      "metadata": {
        "id": "sZyhmlKRPH0W"
      },
      "execution_count": 45,
      "outputs": []
    },
    {
      "cell_type": "code",
      "source": [
        "# Provera i zamena NaN vrednosti\n",
        "print(\"NaN vrednosti pre zamene:\", X_final.isna().sum().sum())\n",
        "X_final = X_final.fillna(0)\n",
        "print(\"NaN vrednosti nakon zamene:\", X_final.isna().sum().sum())\n"
      ],
      "metadata": {
        "colab": {
          "base_uri": "https://localhost:8080/"
        },
        "id": "wF1I9PR0qu5n",
        "outputId": "b04f3811-ee35-4f5f-d990-024e43516f82"
      },
      "execution_count": 46,
      "outputs": [
        {
          "output_type": "stream",
          "name": "stdout",
          "text": [
            "NaN vrednosti pre zamene: 682\n",
            "NaN vrednosti nakon zamene: 0\n"
          ]
        }
      ]
    },
    {
      "cell_type": "code",
      "source": [
        "#trening i test set\n",
        "\n",
        "from sklearn.model_selection import train_test_split\n",
        "\n",
        "# 80% trening / 20% test\n",
        "X_train, X_test, y_train, y_test = train_test_split(X_final, y, test_size=0.2, random_state=42)\n",
        "\n"
      ],
      "metadata": {
        "id": "BCVYCe9cPLlI"
      },
      "execution_count": 47,
      "outputs": []
    },
    {
      "cell_type": "code",
      "source": [
        "#OneHot kodiranje y\n",
        "from sklearn.preprocessing import OneHotEncoder\n",
        "\n",
        "encoder = OneHotEncoder(sparse_output=False)\n",
        "y_train_encoded = encoder.fit_transform(y_train.values.reshape(-1, 1))\n",
        "y_test_encoded = encoder.transform(y_test.values.reshape(-1, 1))"
      ],
      "metadata": {
        "id": "hsDWaV1zPiB0"
      },
      "execution_count": 48,
      "outputs": []
    },
    {
      "cell_type": "code",
      "source": [
        "#kreiranje i treniranje neuronske mreze\n",
        "\n",
        "import tensorflow as tf\n",
        "from tensorflow import keras\n",
        "from tensorflow.keras import layers\n",
        "\n",
        "#broj ulaznih osobina (broj kolona u X)\n",
        "\n",
        "input_dim = X_train.shape[1]\n",
        "#kreiranje modela\n",
        "\n",
        "\n",
        "model = keras.Sequential([\n",
        "    layers.Input(shape=(input_dim,)),\n",
        "    layers.Dense(64, activation='relu'),\n",
        "    layers.BatchNormalization(),\n",
        "    layers.Dropout(0.3),\n",
        "    layers.Dense(32, activation='relu'),\n",
        "    layers.BatchNormalization(),\n",
        "    layers.Dropout(0.3),\n",
        "    layers.Dense(16, activation='relu'),\n",
        "    layers.Dense(3, activation='softmax')\n",
        "])\n",
        "\n",
        "# Kompajliranje modela\n",
        "model.compile(\n",
        "    optimizer='adam',\n",
        "    loss='categorical_crossentropy',\n",
        "    metrics=['accuracy']\n",
        ")\n",
        "\n",
        "print(X_train.shape)\n",
        "print(y_train_encoded.shape)\n",
        "\n",
        "\n",
        "# Treniranje modela\n",
        "history = model.fit(\n",
        "    X_train,\n",
        "    y_train_encoded,\n",
        "    epochs=50,\n",
        "    batch_size=16,\n",
        "    validation_split=0.2,\n",
        "    verbose=1\n",
        ")\n",
        "\n",
        "\n"
      ],
      "metadata": {
        "colab": {
          "base_uri": "https://localhost:8080/"
        },
        "id": "TLH3KknxPQMF",
        "outputId": "3e838f44-158f-46dc-d499-3fcfc4d9852d"
      },
      "execution_count": 49,
      "outputs": [
        {
          "output_type": "stream",
          "name": "stdout",
          "text": [
            "(1048, 63)\n",
            "(1048, 3)\n",
            "Epoch 1/50\n",
            "\u001b[1m53/53\u001b[0m \u001b[32m━━━━━━━━━━━━━━━━━━━━\u001b[0m\u001b[37m\u001b[0m \u001b[1m3s\u001b[0m 9ms/step - accuracy: 0.3711 - loss: 1.3245 - val_accuracy: 0.7619 - val_loss: 0.8628\n",
            "Epoch 2/50\n",
            "\u001b[1m53/53\u001b[0m \u001b[32m━━━━━━━━━━━━━━━━━━━━\u001b[0m\u001b[37m\u001b[0m \u001b[1m0s\u001b[0m 4ms/step - accuracy: 0.7048 - loss: 0.7134 - val_accuracy: 0.8000 - val_loss: 0.7388\n",
            "Epoch 3/50\n",
            "\u001b[1m53/53\u001b[0m \u001b[32m━━━━━━━━━━━━━━━━━━━━\u001b[0m\u001b[37m\u001b[0m \u001b[1m0s\u001b[0m 4ms/step - accuracy: 0.7828 - loss: 0.5666 - val_accuracy: 0.8000 - val_loss: 0.7528\n",
            "Epoch 4/50\n",
            "\u001b[1m53/53\u001b[0m \u001b[32m━━━━━━━━━━━━━━━━━━━━\u001b[0m\u001b[37m\u001b[0m \u001b[1m0s\u001b[0m 4ms/step - accuracy: 0.8192 - loss: 0.4668 - val_accuracy: 0.8095 - val_loss: 0.8389\n",
            "Epoch 5/50\n",
            "\u001b[1m53/53\u001b[0m \u001b[32m━━━━━━━━━━━━━━━━━━━━\u001b[0m\u001b[37m\u001b[0m \u001b[1m0s\u001b[0m 4ms/step - accuracy: 0.8136 - loss: 0.4128 - val_accuracy: 0.8095 - val_loss: 0.9400\n",
            "Epoch 6/50\n",
            "\u001b[1m53/53\u001b[0m \u001b[32m━━━━━━━━━━━━━━━━━━━━\u001b[0m\u001b[37m\u001b[0m \u001b[1m0s\u001b[0m 4ms/step - accuracy: 0.8380 - loss: 0.4097 - val_accuracy: 0.8524 - val_loss: 1.0201\n",
            "Epoch 7/50\n",
            "\u001b[1m53/53\u001b[0m \u001b[32m━━━━━━━━━━━━━━━━━━━━\u001b[0m\u001b[37m\u001b[0m \u001b[1m0s\u001b[0m 4ms/step - accuracy: 0.8464 - loss: 0.3877 - val_accuracy: 0.8714 - val_loss: 1.1885\n",
            "Epoch 8/50\n",
            "\u001b[1m53/53\u001b[0m \u001b[32m━━━━━━━━━━━━━━━━━━━━\u001b[0m\u001b[37m\u001b[0m \u001b[1m0s\u001b[0m 5ms/step - accuracy: 0.8366 - loss: 0.3632 - val_accuracy: 0.8762 - val_loss: 1.5402\n",
            "Epoch 9/50\n",
            "\u001b[1m53/53\u001b[0m \u001b[32m━━━━━━━━━━━━━━━━━━━━\u001b[0m\u001b[37m\u001b[0m \u001b[1m0s\u001b[0m 4ms/step - accuracy: 0.8626 - loss: 0.3494 - val_accuracy: 0.8714 - val_loss: 1.8384\n",
            "Epoch 10/50\n",
            "\u001b[1m53/53\u001b[0m \u001b[32m━━━━━━━━━━━━━━━━━━━━\u001b[0m\u001b[37m\u001b[0m \u001b[1m0s\u001b[0m 4ms/step - accuracy: 0.8622 - loss: 0.3307 - val_accuracy: 0.8714 - val_loss: 2.0636\n",
            "Epoch 11/50\n",
            "\u001b[1m53/53\u001b[0m \u001b[32m━━━━━━━━━━━━━━━━━━━━\u001b[0m\u001b[37m\u001b[0m \u001b[1m0s\u001b[0m 5ms/step - accuracy: 0.8466 - loss: 0.3652 - val_accuracy: 0.8524 - val_loss: 2.0530\n",
            "Epoch 12/50\n",
            "\u001b[1m53/53\u001b[0m \u001b[32m━━━━━━━━━━━━━━━━━━━━\u001b[0m\u001b[37m\u001b[0m \u001b[1m0s\u001b[0m 8ms/step - accuracy: 0.8359 - loss: 0.3926 - val_accuracy: 0.8381 - val_loss: 2.3486\n",
            "Epoch 13/50\n",
            "\u001b[1m53/53\u001b[0m \u001b[32m━━━━━━━━━━━━━━━━━━━━\u001b[0m\u001b[37m\u001b[0m \u001b[1m1s\u001b[0m 12ms/step - accuracy: 0.8722 - loss: 0.3173 - val_accuracy: 0.8667 - val_loss: 2.5321\n",
            "Epoch 14/50\n",
            "\u001b[1m53/53\u001b[0m \u001b[32m━━━━━━━━━━━━━━━━━━━━\u001b[0m\u001b[37m\u001b[0m \u001b[1m1s\u001b[0m 6ms/step - accuracy: 0.8883 - loss: 0.3057 - val_accuracy: 0.8429 - val_loss: 2.4625\n",
            "Epoch 15/50\n",
            "\u001b[1m53/53\u001b[0m \u001b[32m━━━━━━━━━━━━━━━━━━━━\u001b[0m\u001b[37m\u001b[0m \u001b[1m0s\u001b[0m 4ms/step - accuracy: 0.8493 - loss: 0.3355 - val_accuracy: 0.8524 - val_loss: 2.8544\n",
            "Epoch 16/50\n",
            "\u001b[1m53/53\u001b[0m \u001b[32m━━━━━━━━━━━━━━━━━━━━\u001b[0m\u001b[37m\u001b[0m \u001b[1m0s\u001b[0m 4ms/step - accuracy: 0.8697 - loss: 0.3051 - val_accuracy: 0.8381 - val_loss: 3.0488\n",
            "Epoch 17/50\n",
            "\u001b[1m53/53\u001b[0m \u001b[32m━━━━━━━━━━━━━━━━━━━━\u001b[0m\u001b[37m\u001b[0m \u001b[1m0s\u001b[0m 4ms/step - accuracy: 0.8334 - loss: 0.3498 - val_accuracy: 0.8524 - val_loss: 2.8442\n",
            "Epoch 18/50\n",
            "\u001b[1m53/53\u001b[0m \u001b[32m━━━━━━━━━━━━━━━━━━━━\u001b[0m\u001b[37m\u001b[0m \u001b[1m0s\u001b[0m 4ms/step - accuracy: 0.8799 - loss: 0.2951 - val_accuracy: 0.8238 - val_loss: 2.8958\n",
            "Epoch 19/50\n",
            "\u001b[1m53/53\u001b[0m \u001b[32m━━━━━━━━━━━━━━━━━━━━\u001b[0m\u001b[37m\u001b[0m \u001b[1m0s\u001b[0m 4ms/step - accuracy: 0.8877 - loss: 0.2800 - val_accuracy: 0.8190 - val_loss: 3.2080\n",
            "Epoch 20/50\n",
            "\u001b[1m53/53\u001b[0m \u001b[32m━━━━━━━━━━━━━━━━━━━━\u001b[0m\u001b[37m\u001b[0m \u001b[1m0s\u001b[0m 4ms/step - accuracy: 0.8531 - loss: 0.3160 - val_accuracy: 0.8238 - val_loss: 3.0481\n",
            "Epoch 21/50\n",
            "\u001b[1m53/53\u001b[0m \u001b[32m━━━━━━━━━━━━━━━━━━━━\u001b[0m\u001b[37m\u001b[0m \u001b[1m0s\u001b[0m 4ms/step - accuracy: 0.8633 - loss: 0.2999 - val_accuracy: 0.8238 - val_loss: 3.0390\n",
            "Epoch 22/50\n",
            "\u001b[1m53/53\u001b[0m \u001b[32m━━━━━━━━━━━━━━━━━━━━\u001b[0m\u001b[37m\u001b[0m \u001b[1m0s\u001b[0m 4ms/step - accuracy: 0.8697 - loss: 0.3130 - val_accuracy: 0.8286 - val_loss: 2.5290\n",
            "Epoch 23/50\n",
            "\u001b[1m53/53\u001b[0m \u001b[32m━━━━━━━━━━━━━━━━━━━━\u001b[0m\u001b[37m\u001b[0m \u001b[1m0s\u001b[0m 4ms/step - accuracy: 0.8413 - loss: 0.3428 - val_accuracy: 0.8286 - val_loss: 2.2677\n",
            "Epoch 24/50\n",
            "\u001b[1m53/53\u001b[0m \u001b[32m━━━━━━━━━━━━━━━━━━━━\u001b[0m\u001b[37m\u001b[0m \u001b[1m0s\u001b[0m 4ms/step - accuracy: 0.8700 - loss: 0.3010 - val_accuracy: 0.8333 - val_loss: 2.0998\n",
            "Epoch 25/50\n",
            "\u001b[1m53/53\u001b[0m \u001b[32m━━━━━━━━━━━━━━━━━━━━\u001b[0m\u001b[37m\u001b[0m \u001b[1m0s\u001b[0m 4ms/step - accuracy: 0.8659 - loss: 0.2871 - val_accuracy: 0.8286 - val_loss: 1.7946\n",
            "Epoch 26/50\n",
            "\u001b[1m53/53\u001b[0m \u001b[32m━━━━━━━━━━━━━━━━━━━━\u001b[0m\u001b[37m\u001b[0m \u001b[1m0s\u001b[0m 4ms/step - accuracy: 0.8659 - loss: 0.2977 - val_accuracy: 0.8238 - val_loss: 1.8774\n",
            "Epoch 27/50\n",
            "\u001b[1m53/53\u001b[0m \u001b[32m━━━━━━━━━━━━━━━━━━━━\u001b[0m\u001b[37m\u001b[0m \u001b[1m0s\u001b[0m 6ms/step - accuracy: 0.8641 - loss: 0.3189 - val_accuracy: 0.8190 - val_loss: 1.6017\n",
            "Epoch 28/50\n",
            "\u001b[1m53/53\u001b[0m \u001b[32m━━━━━━━━━━━━━━━━━━━━\u001b[0m\u001b[37m\u001b[0m \u001b[1m0s\u001b[0m 4ms/step - accuracy: 0.8757 - loss: 0.2736 - val_accuracy: 0.8143 - val_loss: 1.5011\n",
            "Epoch 29/50\n",
            "\u001b[1m53/53\u001b[0m \u001b[32m━━━━━━━━━━━━━━━━━━━━\u001b[0m\u001b[37m\u001b[0m \u001b[1m0s\u001b[0m 4ms/step - accuracy: 0.8747 - loss: 0.2903 - val_accuracy: 0.8190 - val_loss: 1.7925\n",
            "Epoch 30/50\n",
            "\u001b[1m53/53\u001b[0m \u001b[32m━━━━━━━━━━━━━━━━━━━━\u001b[0m\u001b[37m\u001b[0m \u001b[1m0s\u001b[0m 5ms/step - accuracy: 0.8663 - loss: 0.2946 - val_accuracy: 0.8190 - val_loss: 1.8719\n",
            "Epoch 31/50\n",
            "\u001b[1m53/53\u001b[0m \u001b[32m━━━━━━━━━━━━━━━━━━━━\u001b[0m\u001b[37m\u001b[0m \u001b[1m0s\u001b[0m 4ms/step - accuracy: 0.8725 - loss: 0.2921 - val_accuracy: 0.8190 - val_loss: 2.1675\n",
            "Epoch 32/50\n",
            "\u001b[1m53/53\u001b[0m \u001b[32m━━━━━━━━━━━━━━━━━━━━\u001b[0m\u001b[37m\u001b[0m \u001b[1m0s\u001b[0m 4ms/step - accuracy: 0.8784 - loss: 0.2670 - val_accuracy: 0.8190 - val_loss: 1.8905\n",
            "Epoch 33/50\n",
            "\u001b[1m53/53\u001b[0m \u001b[32m━━━━━━━━━━━━━━━━━━━━\u001b[0m\u001b[37m\u001b[0m \u001b[1m0s\u001b[0m 4ms/step - accuracy: 0.8927 - loss: 0.2403 - val_accuracy: 0.8190 - val_loss: 1.9184\n",
            "Epoch 34/50\n",
            "\u001b[1m53/53\u001b[0m \u001b[32m━━━━━━━━━━━━━━━━━━━━\u001b[0m\u001b[37m\u001b[0m \u001b[1m0s\u001b[0m 4ms/step - accuracy: 0.8858 - loss: 0.2514 - val_accuracy: 0.8238 - val_loss: 1.8081\n",
            "Epoch 35/50\n",
            "\u001b[1m53/53\u001b[0m \u001b[32m━━━━━━━━━━━━━━━━━━━━\u001b[0m\u001b[37m\u001b[0m \u001b[1m0s\u001b[0m 5ms/step - accuracy: 0.8647 - loss: 0.3124 - val_accuracy: 0.8190 - val_loss: 1.5504\n",
            "Epoch 36/50\n",
            "\u001b[1m53/53\u001b[0m \u001b[32m━━━━━━━━━━━━━━━━━━━━\u001b[0m\u001b[37m\u001b[0m \u001b[1m1s\u001b[0m 4ms/step - accuracy: 0.8690 - loss: 0.2934 - val_accuracy: 0.8238 - val_loss: 1.6647\n",
            "Epoch 37/50\n",
            "\u001b[1m53/53\u001b[0m \u001b[32m━━━━━━━━━━━━━━━━━━━━\u001b[0m\u001b[37m\u001b[0m \u001b[1m0s\u001b[0m 4ms/step - accuracy: 0.8755 - loss: 0.2684 - val_accuracy: 0.8286 - val_loss: 1.4713\n",
            "Epoch 38/50\n",
            "\u001b[1m53/53\u001b[0m \u001b[32m━━━━━━━━━━━━━━━━━━━━\u001b[0m\u001b[37m\u001b[0m \u001b[1m0s\u001b[0m 6ms/step - accuracy: 0.8732 - loss: 0.2929 - val_accuracy: 0.8238 - val_loss: 1.4206\n",
            "Epoch 39/50\n",
            "\u001b[1m53/53\u001b[0m \u001b[32m━━━━━━━━━━━━━━━━━━━━\u001b[0m\u001b[37m\u001b[0m \u001b[1m1s\u001b[0m 4ms/step - accuracy: 0.8771 - loss: 0.2715 - val_accuracy: 0.8286 - val_loss: 1.3617\n",
            "Epoch 40/50\n",
            "\u001b[1m53/53\u001b[0m \u001b[32m━━━━━━━━━━━━━━━━━━━━\u001b[0m\u001b[37m\u001b[0m \u001b[1m0s\u001b[0m 6ms/step - accuracy: 0.8501 - loss: 0.3389 - val_accuracy: 0.8286 - val_loss: 1.5373\n",
            "Epoch 41/50\n",
            "\u001b[1m53/53\u001b[0m \u001b[32m━━━━━━━━━━━━━━━━━━━━\u001b[0m\u001b[37m\u001b[0m \u001b[1m1s\u001b[0m 4ms/step - accuracy: 0.8606 - loss: 0.3114 - val_accuracy: 0.8238 - val_loss: 1.4938\n",
            "Epoch 42/50\n",
            "\u001b[1m53/53\u001b[0m \u001b[32m━━━━━━━━━━━━━━━━━━━━\u001b[0m\u001b[37m\u001b[0m \u001b[1m0s\u001b[0m 4ms/step - accuracy: 0.8720 - loss: 0.2826 - val_accuracy: 0.8286 - val_loss: 1.2593\n",
            "Epoch 43/50\n",
            "\u001b[1m53/53\u001b[0m \u001b[32m━━━━━━━━━━━━━━━━━━━━\u001b[0m\u001b[37m\u001b[0m \u001b[1m0s\u001b[0m 6ms/step - accuracy: 0.8911 - loss: 0.2678 - val_accuracy: 0.8381 - val_loss: 1.1307\n",
            "Epoch 44/50\n",
            "\u001b[1m53/53\u001b[0m \u001b[32m━━━━━━━━━━━━━━━━━━━━\u001b[0m\u001b[37m\u001b[0m \u001b[1m0s\u001b[0m 4ms/step - accuracy: 0.9154 - loss: 0.2222 - val_accuracy: 0.8286 - val_loss: 1.3616\n",
            "Epoch 45/50\n",
            "\u001b[1m53/53\u001b[0m \u001b[32m━━━━━━━━━━━━━━━━━━━━\u001b[0m\u001b[37m\u001b[0m \u001b[1m1s\u001b[0m 9ms/step - accuracy: 0.9064 - loss: 0.2344 - val_accuracy: 0.8286 - val_loss: 1.5736\n",
            "Epoch 46/50\n",
            "\u001b[1m53/53\u001b[0m \u001b[32m━━━━━━━━━━━━━━━━━━━━\u001b[0m\u001b[37m\u001b[0m \u001b[1m0s\u001b[0m 6ms/step - accuracy: 0.9036 - loss: 0.2113 - val_accuracy: 0.8238 - val_loss: 1.4903\n",
            "Epoch 47/50\n",
            "\u001b[1m53/53\u001b[0m \u001b[32m━━━━━━━━━━━━━━━━━━━━\u001b[0m\u001b[37m\u001b[0m \u001b[1m0s\u001b[0m 6ms/step - accuracy: 0.8707 - loss: 0.2928 - val_accuracy: 0.8429 - val_loss: 1.1519\n",
            "Epoch 48/50\n",
            "\u001b[1m53/53\u001b[0m \u001b[32m━━━━━━━━━━━━━━━━━━━━\u001b[0m\u001b[37m\u001b[0m \u001b[1m1s\u001b[0m 6ms/step - accuracy: 0.8848 - loss: 0.2461 - val_accuracy: 0.8238 - val_loss: 1.2272\n",
            "Epoch 49/50\n",
            "\u001b[1m53/53\u001b[0m \u001b[32m━━━━━━━━━━━━━━━━━━━━\u001b[0m\u001b[37m\u001b[0m \u001b[1m1s\u001b[0m 5ms/step - accuracy: 0.9104 - loss: 0.2365 - val_accuracy: 0.8238 - val_loss: 1.4621\n",
            "Epoch 50/50\n",
            "\u001b[1m53/53\u001b[0m \u001b[32m━━━━━━━━━━━━━━━━━━━━\u001b[0m\u001b[37m\u001b[0m \u001b[1m0s\u001b[0m 4ms/step - accuracy: 0.8865 - loss: 0.2626 - val_accuracy: 0.8286 - val_loss: 1.2979\n"
          ]
        }
      ]
    },
    {
      "cell_type": "code",
      "source": [
        "import matplotlib.pyplot as plt\n",
        "\n",
        "# Tačnost\n",
        "plt.figure(figsize=(8, 4))\n",
        "plt.plot(history.history['accuracy'], label='Trening')\n",
        "plt.plot(history.history['val_accuracy'], label='Validacija')\n",
        "plt.title('Tačnost kroz epohe')\n",
        "plt.xlabel('Epoh')\n",
        "plt.ylabel('Tačnost')\n",
        "plt.ylim(0, 1)\n",
        "plt.legend()\n",
        "plt.grid(True)\n",
        "plt.show()\n",
        "\n",
        "# Gubitak\n",
        "loss_values = [v for v in history.history['loss'] if not np.isnan(v)]\n",
        "val_loss_values = [v for v in history.history['val_loss'] if not np.isnan(v)]\n",
        "\n",
        "plt.figure(figsize=(8, 4))\n",
        "plt.plot(loss_values, label='Trening')\n",
        "plt.plot(val_loss_values, label='Validacija')\n",
        "plt.title('Gubitak kroz epohe')\n",
        "plt.xlabel('Epoh')\n",
        "plt.ylabel('Gubitak')\n",
        "plt.ylim(0, max(loss_values + val_loss_values))\n",
        "plt.legend()\n",
        "plt.grid(True)\n",
        "plt.show()\n"
      ],
      "metadata": {
        "colab": {
          "base_uri": "https://localhost:8080/",
          "height": 804
        },
        "id": "PnRrL0t0ocBj",
        "outputId": "22d8ac07-1d97-415d-f530-66dd20928995"
      },
      "execution_count": 50,
      "outputs": [
        {
          "output_type": "display_data",
          "data": {
            "text/plain": [
              "<Figure size 800x400 with 1 Axes>"
            ],
            "image/png": "[encoded data removed]"
          },
          "metadata": {}
        },
        {
          "output_type": "display_data",
          "data": {
            "text/plain": [
              "<Figure size 800x400 with 1 Axes>"
            ],
            "image/png": "[encoded data removed]"
          },
          "metadata": {}
        }
      ]
    },
    {
      "cell_type": "code",
      "source": [
        "# Evaluacija na test podacima\n",
        "loss, accuracy = model.evaluate(X_test, y_test_encoded, verbose=0)\n",
        "print(f\"Test tačnost: {accuracy:.4f}\")\n"
      ],
      "metadata": {
        "colab": {
          "base_uri": "https://localhost:8080/"
        },
        "id": "-Coy-qKaVJqC",
        "outputId": "d40f2a1a-cbe6-425b-8003-e176d71185ed"
      },
      "execution_count": 56,
      "outputs": [
        {
          "output_type": "stream",
          "name": "stdout",
          "text": [
            "Test tačnost: 0.8061\n"
          ]
        }
      ]
    },
    {
      "cell_type": "code",
      "source": [
        "# Predikcija za jedan primer iz X_test\n",
        "import numpy as np\n",
        "\n",
        "# Uzimamo jedan primer i pretvaramo u odgovarajući oblik\n",
        "sample = X_test.iloc[0].astype('float32').to_numpy().reshape(1, -1)\n",
        "\n",
        "# Predikcija\n",
        "prediction = model.predict(sample)\n",
        "\n",
        "# Nazivi klasa iz encoder-a\n",
        "klase = encoder.categories_[0].tolist()\n",
        "\n",
        "# Ispis predviđene klase\n",
        "predicted_class = klase[np.argmax(prediction)]\n",
        "print(f\"Model predviđa da je kafa: {predicted_class}\")\n"
      ],
      "metadata": {
        "colab": {
          "base_uri": "https://localhost:8080/"
        },
        "id": "9P9lTgJNs8lS",
        "outputId": "97c01ffb-f780-46bc-a351-04531d14a139"
      },
      "execution_count": 52,
      "outputs": [
        {
          "output_type": "stream",
          "name": "stdout",
          "text": [
            "\u001b[1m1/1\u001b[0m \u001b[32m━━━━━━━━━━━━━━━━━━━━\u001b[0m\u001b[37m\u001b[0m \u001b[1m0s\u001b[0m 109ms/step\n",
            "Model predviđa da je kafa: srednja\n"
          ]
        }
      ]
    },
    {
      "cell_type": "code",
      "source": [
        "#cuvanje u csv file predikcije\n",
        "df_rezultat = pd.DataFrame({\n",
        "    'Predikcija': y_pred_classes\n",
        "})\n",
        "df_rezultat.to_csv(\"predikcije_kafe.csv\", index=False)\n",
        "\n",
        "print(\"Predikcije su sačuvane u predikcije_kafe.csv\")"
      ],
      "metadata": {
        "colab": {
          "base_uri": "https://localhost:8080/"
        },
        "id": "GFOTgBIUtLnA",
        "outputId": "d19e6e70-a05a-41d1-9f59-c58b39cbd79d"
      },
      "execution_count": 53,
      "outputs": [
        {
          "output_type": "stream",
          "name": "stdout",
          "text": [
            "Predikcije su sačuvane u predikcije_kafe.csv\n"
          ]
        }
      ]
    },
    {
      "cell_type": "code",
      "source": [
        "from sklearn.metrics import classification_report, confusion_matrix, ConfusionMatrixDisplay\n",
        "import numpy as np\n",
        "import matplotlib.pyplot as plt\n",
        "\n",
        "# Predikcija za ceo test skup\n",
        "y_pred_probs = model.predict(X_test)\n",
        "\n",
        "#Konverzija y_test_encoded i predikcija u klase\n",
        "y_test_classes = np.argmax(y_test_encoded, axis=1)\n",
        "y_pred_classes = np.argmax(y_pred_probs, axis=1)\n",
        "\n",
        "#Izveštaj klasifikacije\n",
        "print(\"Izveštaj klasifikacije:\\n\")\n",
        "print(classification_report(y_test_classes, y_pred_classes))\n",
        "\n",
        "#Matrica konfuzije\n",
        "cm = confusion_matrix(y_test_classes, y_pred_classes)\n",
        "disp = ConfusionMatrixDisplay(confusion_matrix=cm)\n",
        "disp.plot(cmap=plt.cm.Blues)\n",
        "plt.title(\"Matrica konfuzije\")\n",
        "plt.show()\n"
      ],
      "metadata": {
        "colab": {
          "base_uri": "https://localhost:8080/",
          "height": 698
        },
        "id": "eAhsAIZgtjVh",
        "outputId": "74d2f7be-d091-47cb-e449-d1ac9ef3e0ac"
      },
      "execution_count": 54,
      "outputs": [
        {
          "output_type": "stream",
          "name": "stdout",
          "text": [
            "\u001b[1m9/9\u001b[0m \u001b[32m━━━━━━━━━━━━━━━━━━━━\u001b[0m\u001b[37m\u001b[0m \u001b[1m0s\u001b[0m 3ms/step  \n",
            "Izveštaj klasifikacije:\n",
            "\n",
            "              precision    recall  f1-score   support\n",
            "\n",
            "           0       0.75      0.17      0.27        36\n",
            "           1       0.82      0.98      0.89       207\n",
            "           2       0.50      0.15      0.23        20\n",
            "\n",
            "    accuracy                           0.81       263\n",
            "   macro avg       0.69      0.43      0.46       263\n",
            "weighted avg       0.78      0.81      0.76       263\n",
            "\n"
          ]
        },
        {
          "output_type": "display_data",
          "data": {
            "text/plain": [
              "<Figure size 640x480 with 2 Axes>"
            ],
            "image/png": "[encoded data removed]"
          },
          "metadata": {}
        }
      ]
    },
    {
      "cell_type": "code",
      "source": [
        "#cuvanje modela u .h5 formatu\n",
        "model.save(\"model_kvalitet_kafe.h5\")\n",
        "print(\"Model sačuvan kao model_kvalitet_kafe.h5\")"
      ],
      "metadata": {
        "colab": {
          "base_uri": "https://localhost:8080/"
        },
        "id": "FIbcZEKFtFES",
        "outputId": "c92b448a-48ad-4b2a-d324-c76bf8b34f98"
      },
      "execution_count": 55,
      "outputs": [
        {
          "output_type": "stream",
          "name": "stderr",
          "text": [
            "WARNING:absl:You are saving your model as an HDF5 file via `model.save()` or `keras.saving.save_model(model)`. This file format is considered legacy. We recommend using instead the native Keras format, e.g. `model.save('my_model.keras')` or `keras.saving.save_model(model, 'my_model.keras')`. \n"
          ]
        },
        {
          "output_type": "stream",
          "name": "stdout",
          "text": [
            "Model sačuvan kao model_kvalitet_kafe.h5\n"
          ]
        }
      ]
    }
  ]
}