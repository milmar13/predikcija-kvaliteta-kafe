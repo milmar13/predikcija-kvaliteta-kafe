{
  "nbformat": 4,
  "nbformat_minor": 0,
  "metadata": {
    "colab": {
      "provenance": []
    },
    "kernelspec": {
      "name": "python3",
      "display_name": "Python 3"
    },
    "language_info": {
      "name": "python"
    }
  },
  "cells": [
    {
      "cell_type": "code",
      "execution_count": 36,
      "metadata": {
        "id": "zb91EdcH-7us"
      },
      "outputs": [],
      "source": [
        "import pandas as pd\n",
        "import numpy as np\n",
        "!pip install transformers sentence-transformers torch --quiet\n",
        "\n",
        "\n",
        "#učitavanje dataseta direktno sa GitHub-a\n",
        "url = \"https://raw.githubusercontent.com/jldbc/coffee-quality-database/master/data/arabica_data_cleaned.csv\"\n",
        "df = pd.read_csv(url)"
      ]
    },
    {
      "cell_type": "code",
      "source": [
        "#prikaz prvih 5 redova\n",
        "df.head()\n",
        "#osnovne informacije o kolonama\n",
        "df.info()\n"
      ],
      "metadata": {
        "colab": {
          "base_uri": "https://localhost:8080/"
        },
        "id": "gw_QPWRQBZ0_",
        "outputId": "7a7697d2-054d-4233-95eb-b32cc0b5054c"
      },
      "execution_count": 37,
      "outputs": [
        {
          "output_type": "stream",
          "name": "stdout",
          "text": [
            "<class 'pandas.core.frame.DataFrame'>\n",
            "RangeIndex: 1311 entries, 0 to 1310\n",
            "Data columns (total 44 columns):\n",
            " #   Column                 Non-Null Count  Dtype  \n",
            "---  ------                 --------------  -----  \n",
            " 0   Unnamed: 0             1311 non-null   int64  \n",
            " 1   Species                1311 non-null   object \n",
            " 2   Owner                  1304 non-null   object \n",
            " 3   Country.of.Origin      1310 non-null   object \n",
            " 4   Farm.Name              955 non-null    object \n",
            " 5   Lot.Number             270 non-null    object \n",
            " 6   Mill                   1001 non-null   object \n",
            " 7   ICO.Number             1163 non-null   object \n",
            " 8   Company                1102 non-null   object \n",
            " 9   Altitude               1088 non-null   object \n",
            " 10  Region                 1254 non-null   object \n",
            " 11  Producer               1081 non-null   object \n",
            " 12  Number.of.Bags         1311 non-null   int64  \n",
            " 13  Bag.Weight             1311 non-null   object \n",
            " 14  In.Country.Partner     1311 non-null   object \n",
            " 15  Harvest.Year           1264 non-null   object \n",
            " 16  Grading.Date           1311 non-null   object \n",
            " 17  Owner.1                1304 non-null   object \n",
            " 18  Variety                1110 non-null   object \n",
            " 19  Processing.Method      1159 non-null   object \n",
            " 20  Aroma                  1311 non-null   float64\n",
            " 21  Flavor                 1311 non-null   float64\n",
            " 22  Aftertaste             1311 non-null   float64\n",
            " 23  Acidity                1311 non-null   float64\n",
            " 24  Body                   1311 non-null   float64\n",
            " 25  Balance                1311 non-null   float64\n",
            " 26  Uniformity             1311 non-null   float64\n",
            " 27  Clean.Cup              1311 non-null   float64\n",
            " 28  Sweetness              1311 non-null   float64\n",
            " 29  Cupper.Points          1311 non-null   float64\n",
            " 30  Total.Cup.Points       1311 non-null   float64\n",
            " 31  Moisture               1311 non-null   float64\n",
            " 32  Category.One.Defects   1311 non-null   int64  \n",
            " 33  Quakers                1310 non-null   float64\n",
            " 34  Color                  1044 non-null   object \n",
            " 35  Category.Two.Defects   1311 non-null   int64  \n",
            " 36  Expiration             1311 non-null   object \n",
            " 37  Certification.Body     1311 non-null   object \n",
            " 38  Certification.Address  1311 non-null   object \n",
            " 39  Certification.Contact  1311 non-null   object \n",
            " 40  unit_of_measurement    1311 non-null   object \n",
            " 41  altitude_low_meters    1084 non-null   float64\n",
            " 42  altitude_high_meters   1084 non-null   float64\n",
            " 43  altitude_mean_meters   1084 non-null   float64\n",
            "dtypes: float64(16), int64(4), object(24)\n",
            "memory usage: 450.8+ KB\n"
          ]
        }
      ]
    },
    {
      "cell_type": "code",
      "source": [
        "#Provera nedostajućih vrednosti\n",
        "df.isnull().sum()\n"
      ],
      "metadata": {
        "colab": {
          "base_uri": "https://localhost:8080/",
          "height": 1000
        },
        "id": "-J-YQu5yBeXZ",
        "outputId": "a0320e01-b924-4bbd-c701-2f9baf58030e"
      },
      "execution_count": 38,
      "outputs": [
        {
          "output_type": "execute_result",
          "data": {
            "text/plain": [
              "Unnamed: 0                  0\n",
              "Species                     0\n",
              "Owner                       7\n",
              "Country.of.Origin           1\n",
              "Farm.Name                 356\n",
              "Lot.Number               1041\n",
              "Mill                      310\n",
              "ICO.Number                148\n",
              "Company                   209\n",
              "Altitude                  223\n",
              "Region                     57\n",
              "Producer                  230\n",
              "Number.of.Bags              0\n",
              "Bag.Weight                  0\n",
              "In.Country.Partner          0\n",
              "Harvest.Year               47\n",
              "Grading.Date                0\n",
              "Owner.1                     7\n",
              "Variety                   201\n",
              "Processing.Method         152\n",
              "Aroma                       0\n",
              "Flavor                      0\n",
              "Aftertaste                  0\n",
              "Acidity                     0\n",
              "Body                        0\n",
              "Balance                     0\n",
              "Uniformity                  0\n",
              "Clean.Cup                   0\n",
              "Sweetness                   0\n",
              "Cupper.Points               0\n",
              "Total.Cup.Points            0\n",
              "Moisture                    0\n",
              "Category.One.Defects        0\n",
              "Quakers                     1\n",
              "Color                     267\n",
              "Category.Two.Defects        0\n",
              "Expiration                  0\n",
              "Certification.Body          0\n",
              "Certification.Address       0\n",
              "Certification.Contact       0\n",
              "unit_of_measurement         0\n",
              "altitude_low_meters       227\n",
              "altitude_high_meters      227\n",
              "altitude_mean_meters      227\n",
              "dtype: int64"
            ],
            "text/html": [
              "<div>\n",
              "<style scoped>\n",
              "    .dataframe tbody tr th:only-of-type {\n",
              "        vertical-align: middle;\n",
              "    }\n",
              "\n",
              "    .dataframe tbody tr th {\n",
              "        vertical-align: top;\n",
              "    }\n",
              "\n",
              "    .dataframe thead th {\n",
              "        text-align: right;\n",
              "    }\n",
              "</style>\n",
              "<table border=\"1\" class=\"dataframe\">\n",
              "  <thead>\n",
              "    <tr style=\"text-align: right;\">\n",
              "      <th></th>\n",
              "      <th>0</th>\n",
              "    </tr>\n",
              "  </thead>\n",
              "  <tbody>\n",
              "    <tr>\n",
              "      <th>Unnamed: 0</th>\n",
              "      <td>0</td>\n",
              "    </tr>\n",
              "    <tr>\n",
              "      <th>Species</th>\n",
              "      <td>0</td>\n",
              "    </tr>\n",
              "    <tr>\n",
              "      <th>Owner</th>\n",
              "      <td>7</td>\n",
              "    </tr>\n",
              "    <tr>\n",
              "      <th>Country.of.Origin</th>\n",
              "      <td>1</td>\n",
              "    </tr>\n",
              "    <tr>\n",
              "      <th>Farm.Name</th>\n",
              "      <td>356</td>\n",
              "    </tr>\n",
              "    <tr>\n",
              "      <th>Lot.Number</th>\n",
              "      <td>1041</td>\n",
              "    </tr>\n",
              "    <tr>\n",
              "      <th>Mill</th>\n",
              "      <td>310</td>\n",
              "    </tr>\n",
              "    <tr>\n",
              "      <th>ICO.Number</th>\n",
              "      <td>148</td>\n",
              "    </tr>\n",
              "    <tr>\n",
              "      <th>Company</th>\n",
              "      <td>209</td>\n",
              "    </tr>\n",
              "    <tr>\n",
              "      <th>Altitude</th>\n",
              "      <td>223</td>\n",
              "    </tr>\n",
              "    <tr>\n",
              "      <th>Region</th>\n",
              "      <td>57</td>\n",
              "    </tr>\n",
              "    <tr>\n",
              "      <th>Producer</th>\n",
              "      <td>230</td>\n",
              "    </tr>\n",
              "    <tr>\n",
              "      <th>Number.of.Bags</th>\n",
              "      <td>0</td>\n",
              "    </tr>\n",
              "    <tr>\n",
              "      <th>Bag.Weight</th>\n",
              "      <td>0</td>\n",
              "    </tr>\n",
              "    <tr>\n",
              "      <th>In.Country.Partner</th>\n",
              "      <td>0</td>\n",
              "    </tr>\n",
              "    <tr>\n",
              "      <th>Harvest.Year</th>\n",
              "      <td>47</td>\n",
              "    </tr>\n",
              "    <tr>\n",
              "      <th>Grading.Date</th>\n",
              "      <td>0</td>\n",
              "    </tr>\n",
              "    <tr>\n",
              "      <th>Owner.1</th>\n",
              "      <td>7</td>\n",
              "    </tr>\n",
              "    <tr>\n",
              "      <th>Variety</th>\n",
              "      <td>201</td>\n",
              "    </tr>\n",
              "    <tr>\n",
              "      <th>Processing.Method</th>\n",
              "      <td>152</td>\n",
              "    </tr>\n",
              "    <tr>\n",
              "      <th>Aroma</th>\n",
              "      <td>0</td>\n",
              "    </tr>\n",
              "    <tr>\n",
              "      <th>Flavor</th>\n",
              "      <td>0</td>\n",
              "    </tr>\n",
              "    <tr>\n",
              "      <th>Aftertaste</th>\n",
              "      <td>0</td>\n",
              "    </tr>\n",
              "    <tr>\n",
              "      <th>Acidity</th>\n",
              "      <td>0</td>\n",
              "    </tr>\n",
              "    <tr>\n",
              "      <th>Body</th>\n",
              "      <td>0</td>\n",
              "    </tr>\n",
              "    <tr>\n",
              "      <th>Balance</th>\n",
              "      <td>0</td>\n",
              "    </tr>\n",
              "    <tr>\n",
              "      <th>Uniformity</th>\n",
              "      <td>0</td>\n",
              "    </tr>\n",
              "    <tr>\n",
              "      <th>Clean.Cup</th>\n",
              "      <td>0</td>\n",
              "    </tr>\n",
              "    <tr>\n",
              "      <th>Sweetness</th>\n",
              "      <td>0</td>\n",
              "    </tr>\n",
              "    <tr>\n",
              "      <th>Cupper.Points</th>\n",
              "      <td>0</td>\n",
              "    </tr>\n",
              "    <tr>\n",
              "      <th>Total.Cup.Points</th>\n",
              "      <td>0</td>\n",
              "    </tr>\n",
              "    <tr>\n",
              "      <th>Moisture</th>\n",
              "      <td>0</td>\n",
              "    </tr>\n",
              "    <tr>\n",
              "      <th>Category.One.Defects</th>\n",
              "      <td>0</td>\n",
              "    </tr>\n",
              "    <tr>\n",
              "      <th>Quakers</th>\n",
              "      <td>1</td>\n",
              "    </tr>\n",
              "    <tr>\n",
              "      <th>Color</th>\n",
              "      <td>267</td>\n",
              "    </tr>\n",
              "    <tr>\n",
              "      <th>Category.Two.Defects</th>\n",
              "      <td>0</td>\n",
              "    </tr>\n",
              "    <tr>\n",
              "      <th>Expiration</th>\n",
              "      <td>0</td>\n",
              "    </tr>\n",
              "    <tr>\n",
              "      <th>Certification.Body</th>\n",
              "      <td>0</td>\n",
              "    </tr>\n",
              "    <tr>\n",
              "      <th>Certification.Address</th>\n",
              "      <td>0</td>\n",
              "    </tr>\n",
              "    <tr>\n",
              "      <th>Certification.Contact</th>\n",
              "      <td>0</td>\n",
              "    </tr>\n",
              "    <tr>\n",
              "      <th>unit_of_measurement</th>\n",
              "      <td>0</td>\n",
              "    </tr>\n",
              "    <tr>\n",
              "      <th>altitude_low_meters</th>\n",
              "      <td>227</td>\n",
              "    </tr>\n",
              "    <tr>\n",
              "      <th>altitude_high_meters</th>\n",
              "      <td>227</td>\n",
              "    </tr>\n",
              "    <tr>\n",
              "      <th>altitude_mean_meters</th>\n",
              "      <td>227</td>\n",
              "    </tr>\n",
              "  </tbody>\n",
              "</table>\n",
              "</div><br><label><b>dtype:</b> int64</label>"
            ]
          },
          "metadata": {},
          "execution_count": 38
        }
      ]
    },
    {
      "cell_type": "code",
      "source": [
        "from transformers import AutoTokenizer, AutoModel\n",
        "import torch\n",
        "from sklearn.preprocessing import StandardScaler\n",
        "\n",
        "import numpy as np\n",
        "\n",
        "# tekstualne kolone koje su ulaz u BERT\n",
        "df['text_for_bert'] = df[['Region', 'Processing.Method']].fillna(\"\").agg(\" \".join, axis=1)\n",
        "\n",
        "# Priprema numeričkih kolona\n",
        "numericke_kolone = ['Aroma', 'Flavor', 'Aftertaste', 'Acidity', 'Body', 'Balance', 'Uniformity', 'altitude_mean_meters']\n",
        "X_numeric = df[numericke_kolone].fillna(0)\n",
        "\n",
        "\n"
      ],
      "metadata": {
        "id": "oOTf5a4Fnx9r"
      },
      "execution_count": 39,
      "outputs": []
    },
    {
      "cell_type": "code",
      "source": [
        "# Skaliranje numeričkih podataka\n",
        "scaler = StandardScaler()\n",
        "X_numeric_scaled = scaler.fit_transform(X_numeric)\n",
        "\n",
        "# Učitavanje BERT modela\n",
        "tokenizer = AutoTokenizer.from_pretrained(\"sentence-transformers/all-MiniLM-L6-v2\")\n",
        "model = AutoModel.from_pretrained(\"sentence-transformers/all-MiniLM-L6-v2\")\n",
        "\n",
        "# Funkcija za dobijanje embeddinga za tekst\n",
        "def get_embedding(text):\n",
        "    inputs = tokenizer(text, return_tensors=\"pt\", truncation=True, padding=True)\n",
        "    with torch.no_grad():\n",
        "        outputs = model(**inputs)\n",
        "    return outputs.last_hidden_state.mean(dim=1).squeeze().numpy()\n",
        "\n",
        "# BERT embedding za sve redove\n",
        "bert_embeddings = np.array([get_embedding(t) for t in df['text_for_bert']])\n",
        "\n",
        "# spajanje numeričke + tekstualne podatke\n",
        "X_combined = np.hstack([X_numeric_scaled, bert_embeddings])"
      ],
      "metadata": {
        "id": "wdupV12FmDm8"
      },
      "execution_count": 41,
      "outputs": []
    },
    {
      "cell_type": "code",
      "source": [
        "#Biramo samo korisne kolone\n",
        "relevantne_kolone = [\n",
        "    'Country.of.Origin', 'Processing.Method', 'altitude_mean_meters',\n",
        "    'Acidity', 'Aroma', 'Flavor', 'Aftertaste', 'Body', 'Balance', 'Uniformity',\n",
        "    'Total.Cup.Points'\n",
        "]\n",
        "\n",
        "df_clean = df[relevantne_kolone].dropna()"
      ],
      "metadata": {
        "id": "wLY9lqNx_Dhy"
      },
      "execution_count": 42,
      "outputs": []
    },
    {
      "cell_type": "code",
      "source": [
        "#pravi 3 nove kategorije ocene kvaliteta kafe i brise originalnu\n",
        "\n",
        "def oceni_kafu(score):\n",
        "    if score < 80:\n",
        "        return 'loša'\n",
        "    elif score < 85:\n",
        "        return 'srednja'\n",
        "    else:\n",
        "        return 'vrhunska'\n",
        "\n",
        "df_clean['kategorija_kvaliteta'] = df_clean['Total.Cup.Points'].apply(oceni_kafu)\n",
        "df_clean = df_clean.drop(columns=['Total.Cup.Points'])\n"
      ],
      "metadata": {
        "id": "ZOJ4knpg_IZn"
      },
      "execution_count": 43,
      "outputs": []
    },
    {
      "cell_type": "code",
      "source": [
        "#uklanjanje originalne kolone sa ocenom\n",
        "\n",
        "df_encoded = pd.get_dummies(df_clean)\n",
        "\n",
        "#Pravimo X i y\n",
        "X = df_encoded.drop(columns=['kategorija_kvaliteta_loša', 'kategorija_kvaliteta_srednja', 'kategorija_kvaliteta_vrhunska'], errors='ignore')\n",
        "y = df_encoded[['kategorija_kvaliteta_loša', 'kategorija_kvaliteta_srednja', 'kategorija_kvaliteta_vrhunska']]"
      ],
      "metadata": {
        "id": "4wFrW09y_KJ_"
      },
      "execution_count": 44,
      "outputs": []
    },
    {
      "cell_type": "code",
      "source": [
        "#Priprema ulaza i glavne promenljive\n",
        "X = df_encoded.drop(columns=['kategorija_kvaliteta_loša', 'kategorija_kvaliteta_srednja', 'kategorija_kvaliteta_vrhunska'], errors='ignore')\n",
        "y = df_encoded[['kategorija_kvaliteta_loša', 'kategorija_kvaliteta_srednja', 'kategorija_kvaliteta_vrhunska']]"
      ],
      "metadata": {
        "id": "6Vvd3MbCTBAR"
      },
      "execution_count": 45,
      "outputs": []
    },
    {
      "cell_type": "code",
      "source": [
        "#trening i test set\n",
        "\n",
        "\n",
        "from sklearn.model_selection import train_test_split\n",
        "from sklearn.preprocessing import StandardScaler\n",
        "\n",
        "# 60% trening / 40% test\n",
        "X_train, X_test, y_train, y_test = train_test_split(X, y, test_size=0.4, random_state=42)\n",
        "\n",
        "# Standardizacija\n",
        "scaler = StandardScaler()\n",
        "X_combined = scaler.fit_transform(X_train)\n",
        "X_test_scaled = scaler.transform(X_test)\n"
      ],
      "metadata": {
        "id": "Slnc9-dB_Ojr"
      },
      "execution_count": 46,
      "outputs": []
    },
    {
      "cell_type": "code",
      "source": [
        "#kreiranje i treniranje neuronske mreze\n",
        "\n",
        "import tensorflow as tf\n",
        "from tensorflow import keras\n",
        "from tensorflow.keras import layers\n",
        "\n",
        "#broj ulaznih osobina (broj kolona u X)\n",
        "\n",
        "input_dim = X_combined.shape[1]\n",
        "\n",
        "#kreiranje modela\n",
        "\n",
        "model = keras.Sequential([\n",
        "    layers.Dense(128, activation='relu', input_shape=(input_dim,)),\n",
        "    layers.Dropout(0.3),\n",
        "    layers.Dense(64, activation='relu'),\n",
        "    layers.Dense(3, activation='softmax')\n",
        "])\n",
        "\n",
        "#Kompajliranje modela\n",
        "\n",
        "model.compile(optimizer='adam',\n",
        "              loss='categorical_crossentropy',\n",
        "              metrics=['accuracy'])\n",
        "#treniranje modela\n",
        "\n",
        "history = model.fit(\n",
        "    X_combined, y_train,\n",
        "    epochs=50,\n",
        "    batch_size=16,\n",
        "    validation_split=0.2,\n",
        "    verbose=1\n",
        ")\n"
      ],
      "metadata": {
        "colab": {
          "base_uri": "https://localhost:8080/"
        },
        "id": "vCVXEkCV_YA2",
        "outputId": "ee6d8f92-9c75-43b7-dc07-b40b9fdeff61"
      },
      "execution_count": 47,
      "outputs": [
        {
          "output_type": "stream",
          "name": "stdout",
          "text": [
            "Epoch 1/50\n"
          ]
        },
        {
          "output_type": "stream",
          "name": "stderr",
          "text": [
            "/usr/local/lib/python3.11/dist-packages/keras/src/layers/core/dense.py:87: UserWarning: Do not pass an `input_shape`/`input_dim` argument to a layer. When using Sequential models, prefer using an `Input(shape)` object as the first layer in the model instead.\n",
            "  super().__init__(activity_regularizer=activity_regularizer, **kwargs)\n"
          ]
        },
        {
          "output_type": "stream",
          "name": "stdout",
          "text": [
            "\u001b[1m31/31\u001b[0m \u001b[32m━━━━━━━━━━━━━━━━━━━━\u001b[0m\u001b[37m\u001b[0m \u001b[1m2s\u001b[0m 12ms/step - accuracy: 0.4743 - loss: 1.0540 - val_accuracy: 0.8512 - val_loss: 0.5191\n",
            "Epoch 2/50\n",
            "\u001b[1m31/31\u001b[0m \u001b[32m━━━━━━━━━━━━━━━━━━━━\u001b[0m\u001b[37m\u001b[0m \u001b[1m0s\u001b[0m 5ms/step - accuracy: 0.8378 - loss: 0.6088 - val_accuracy: 0.9174 - val_loss: 0.3653\n",
            "Epoch 3/50\n",
            "\u001b[1m31/31\u001b[0m \u001b[32m━━━━━━━━━━━━━━━━━━━━\u001b[0m\u001b[37m\u001b[0m \u001b[1m0s\u001b[0m 4ms/step - accuracy: 0.8415 - loss: 0.4079 - val_accuracy: 0.9256 - val_loss: 0.2599\n",
            "Epoch 4/50\n",
            "\u001b[1m31/31\u001b[0m \u001b[32m━━━━━━━━━━━━━━━━━━━━\u001b[0m\u001b[37m\u001b[0m \u001b[1m0s\u001b[0m 4ms/step - accuracy: 0.8961 - loss: 0.2558 - val_accuracy: 0.9256 - val_loss: 0.1995\n",
            "Epoch 5/50\n",
            "\u001b[1m31/31\u001b[0m \u001b[32m━━━━━━━━━━━━━━━━━━━━\u001b[0m\u001b[37m\u001b[0m \u001b[1m0s\u001b[0m 4ms/step - accuracy: 0.9206 - loss: 0.2145 - val_accuracy: 0.9256 - val_loss: 0.1815\n",
            "Epoch 6/50\n",
            "\u001b[1m31/31\u001b[0m \u001b[32m━━━━━━━━━━━━━━━━━━━━\u001b[0m\u001b[37m\u001b[0m \u001b[1m0s\u001b[0m 5ms/step - accuracy: 0.9423 - loss: 0.1745 - val_accuracy: 0.9339 - val_loss: 0.1647\n",
            "Epoch 7/50\n",
            "\u001b[1m31/31\u001b[0m \u001b[32m━━━━━━━━━━━━━━━━━━━━\u001b[0m\u001b[37m\u001b[0m \u001b[1m0s\u001b[0m 4ms/step - accuracy: 0.9462 - loss: 0.1636 - val_accuracy: 0.9669 - val_loss: 0.1456\n",
            "Epoch 8/50\n",
            "\u001b[1m31/31\u001b[0m \u001b[32m━━━━━━━━━━━━━━━━━━━━\u001b[0m\u001b[37m\u001b[0m \u001b[1m0s\u001b[0m 4ms/step - accuracy: 0.9432 - loss: 0.1486 - val_accuracy: 0.9339 - val_loss: 0.1435\n",
            "Epoch 9/50\n",
            "\u001b[1m31/31\u001b[0m \u001b[32m━━━━━━━━━━━━━━━━━━━━\u001b[0m\u001b[37m\u001b[0m \u001b[1m0s\u001b[0m 4ms/step - accuracy: 0.9698 - loss: 0.1246 - val_accuracy: 0.9587 - val_loss: 0.1359\n",
            "Epoch 10/50\n",
            "\u001b[1m31/31\u001b[0m \u001b[32m━━━━━━━━━━━━━━━━━━━━\u001b[0m\u001b[37m\u001b[0m \u001b[1m0s\u001b[0m 5ms/step - accuracy: 0.9590 - loss: 0.1288 - val_accuracy: 0.9421 - val_loss: 0.1450\n",
            "Epoch 11/50\n",
            "\u001b[1m31/31\u001b[0m \u001b[32m━━━━━━━━━━━━━━━━━━━━\u001b[0m\u001b[37m\u001b[0m \u001b[1m0s\u001b[0m 4ms/step - accuracy: 0.9672 - loss: 0.1060 - val_accuracy: 0.9587 - val_loss: 0.1375\n",
            "Epoch 12/50\n",
            "\u001b[1m31/31\u001b[0m \u001b[32m━━━━━━━━━━━━━━━━━━━━\u001b[0m\u001b[37m\u001b[0m \u001b[1m0s\u001b[0m 4ms/step - accuracy: 0.9520 - loss: 0.1086 - val_accuracy: 0.9421 - val_loss: 0.1472\n",
            "Epoch 13/50\n",
            "\u001b[1m31/31\u001b[0m \u001b[32m━━━━━━━━━━━━━━━━━━━━\u001b[0m\u001b[37m\u001b[0m \u001b[1m0s\u001b[0m 4ms/step - accuracy: 0.9609 - loss: 0.1070 - val_accuracy: 0.9421 - val_loss: 0.1348\n",
            "Epoch 14/50\n",
            "\u001b[1m31/31\u001b[0m \u001b[32m━━━━━━━━━━━━━━━━━━━━\u001b[0m\u001b[37m\u001b[0m \u001b[1m0s\u001b[0m 4ms/step - accuracy: 0.9682 - loss: 0.1114 - val_accuracy: 0.9339 - val_loss: 0.1648\n",
            "Epoch 15/50\n",
            "\u001b[1m31/31\u001b[0m \u001b[32m━━━━━━━━━━━━━━━━━━━━\u001b[0m\u001b[37m\u001b[0m \u001b[1m0s\u001b[0m 5ms/step - accuracy: 0.9527 - loss: 0.0964 - val_accuracy: 0.9339 - val_loss: 0.1732\n",
            "Epoch 16/50\n",
            "\u001b[1m31/31\u001b[0m \u001b[32m━━━━━━━━━━━━━━━━━━━━\u001b[0m\u001b[37m\u001b[0m \u001b[1m0s\u001b[0m 4ms/step - accuracy: 0.9741 - loss: 0.0803 - val_accuracy: 0.9504 - val_loss: 0.1704\n",
            "Epoch 17/50\n",
            "\u001b[1m31/31\u001b[0m \u001b[32m━━━━━━━━━━━━━━━━━━━━\u001b[0m\u001b[37m\u001b[0m \u001b[1m0s\u001b[0m 4ms/step - accuracy: 0.9680 - loss: 0.0939 - val_accuracy: 0.9174 - val_loss: 0.1860\n",
            "Epoch 18/50\n",
            "\u001b[1m31/31\u001b[0m \u001b[32m━━━━━━━━━━━━━━━━━━━━\u001b[0m\u001b[37m\u001b[0m \u001b[1m0s\u001b[0m 4ms/step - accuracy: 0.9509 - loss: 0.1118 - val_accuracy: 0.9091 - val_loss: 0.1805\n",
            "Epoch 19/50\n",
            "\u001b[1m31/31\u001b[0m \u001b[32m━━━━━━━━━━━━━━━━━━━━\u001b[0m\u001b[37m\u001b[0m \u001b[1m0s\u001b[0m 4ms/step - accuracy: 0.9662 - loss: 0.0987 - val_accuracy: 0.9339 - val_loss: 0.1834\n",
            "Epoch 20/50\n",
            "\u001b[1m31/31\u001b[0m \u001b[32m━━━━━━━━━━━━━━━━━━━━\u001b[0m\u001b[37m\u001b[0m \u001b[1m0s\u001b[0m 6ms/step - accuracy: 0.9540 - loss: 0.1051 - val_accuracy: 0.9504 - val_loss: 0.1655\n",
            "Epoch 21/50\n",
            "\u001b[1m31/31\u001b[0m \u001b[32m━━━━━━━━━━━━━━━━━━━━\u001b[0m\u001b[37m\u001b[0m \u001b[1m0s\u001b[0m 4ms/step - accuracy: 0.9722 - loss: 0.0835 - val_accuracy: 0.9421 - val_loss: 0.1754\n",
            "Epoch 22/50\n",
            "\u001b[1m31/31\u001b[0m \u001b[32m━━━━━━━━━━━━━━━━━━━━\u001b[0m\u001b[37m\u001b[0m \u001b[1m0s\u001b[0m 4ms/step - accuracy: 0.9743 - loss: 0.0659 - val_accuracy: 0.9504 - val_loss: 0.1705\n",
            "Epoch 23/50\n",
            "\u001b[1m31/31\u001b[0m \u001b[32m━━━━━━━━━━━━━━━━━━━━\u001b[0m\u001b[37m\u001b[0m \u001b[1m0s\u001b[0m 4ms/step - accuracy: 0.9785 - loss: 0.0630 - val_accuracy: 0.9504 - val_loss: 0.1527\n",
            "Epoch 24/50\n",
            "\u001b[1m31/31\u001b[0m \u001b[32m━━━━━━━━━━━━━━━━━━━━\u001b[0m\u001b[37m\u001b[0m \u001b[1m0s\u001b[0m 4ms/step - accuracy: 0.9697 - loss: 0.0998 - val_accuracy: 0.9421 - val_loss: 0.1684\n",
            "Epoch 25/50\n",
            "\u001b[1m31/31\u001b[0m \u001b[32m━━━━━━━━━━━━━━━━━━━━\u001b[0m\u001b[37m\u001b[0m \u001b[1m0s\u001b[0m 5ms/step - accuracy: 0.9707 - loss: 0.0856 - val_accuracy: 0.9091 - val_loss: 0.2228\n",
            "Epoch 26/50\n",
            "\u001b[1m31/31\u001b[0m \u001b[32m━━━━━━━━━━━━━━━━━━━━\u001b[0m\u001b[37m\u001b[0m \u001b[1m0s\u001b[0m 4ms/step - accuracy: 0.9614 - loss: 0.0794 - val_accuracy: 0.9421 - val_loss: 0.1968\n",
            "Epoch 27/50\n",
            "\u001b[1m31/31\u001b[0m \u001b[32m━━━━━━━━━━━━━━━━━━━━\u001b[0m\u001b[37m\u001b[0m \u001b[1m0s\u001b[0m 4ms/step - accuracy: 0.9855 - loss: 0.0580 - val_accuracy: 0.9339 - val_loss: 0.2062\n",
            "Epoch 28/50\n",
            "\u001b[1m31/31\u001b[0m \u001b[32m━━━━━━━━━━━━━━━━━━━━\u001b[0m\u001b[37m\u001b[0m \u001b[1m0s\u001b[0m 4ms/step - accuracy: 0.9608 - loss: 0.1131 - val_accuracy: 0.9421 - val_loss: 0.2009\n",
            "Epoch 29/50\n",
            "\u001b[1m31/31\u001b[0m \u001b[32m━━━━━━━━━━━━━━━━━━━━\u001b[0m\u001b[37m\u001b[0m \u001b[1m0s\u001b[0m 4ms/step - accuracy: 0.9760 - loss: 0.0710 - val_accuracy: 0.9504 - val_loss: 0.1993\n",
            "Epoch 30/50\n",
            "\u001b[1m31/31\u001b[0m \u001b[32m━━━━━━━━━━━━━━━━━━━━\u001b[0m\u001b[37m\u001b[0m \u001b[1m0s\u001b[0m 4ms/step - accuracy: 0.9842 - loss: 0.0622 - val_accuracy: 0.9421 - val_loss: 0.1954\n",
            "Epoch 31/50\n",
            "\u001b[1m31/31\u001b[0m \u001b[32m━━━━━━━━━━━━━━━━━━━━\u001b[0m\u001b[37m\u001b[0m \u001b[1m0s\u001b[0m 4ms/step - accuracy: 0.9601 - loss: 0.0941 - val_accuracy: 0.9339 - val_loss: 0.2642\n",
            "Epoch 32/50\n",
            "\u001b[1m31/31\u001b[0m \u001b[32m━━━━━━━━━━━━━━━━━━━━\u001b[0m\u001b[37m\u001b[0m \u001b[1m0s\u001b[0m 4ms/step - accuracy: 0.9513 - loss: 0.1240 - val_accuracy: 0.9504 - val_loss: 0.1888\n",
            "Epoch 33/50\n",
            "\u001b[1m31/31\u001b[0m \u001b[32m━━━━━━━━━━━━━━━━━━━━\u001b[0m\u001b[37m\u001b[0m \u001b[1m0s\u001b[0m 4ms/step - accuracy: 0.9702 - loss: 0.0688 - val_accuracy: 0.9256 - val_loss: 0.2073\n",
            "Epoch 34/50\n",
            "\u001b[1m31/31\u001b[0m \u001b[32m━━━━━━━━━━━━━━━━━━━━\u001b[0m\u001b[37m\u001b[0m \u001b[1m0s\u001b[0m 5ms/step - accuracy: 0.9805 - loss: 0.0573 - val_accuracy: 0.9339 - val_loss: 0.2016\n",
            "Epoch 35/50\n",
            "\u001b[1m31/31\u001b[0m \u001b[32m━━━━━━━━━━━━━━━━━━━━\u001b[0m\u001b[37m\u001b[0m \u001b[1m0s\u001b[0m 4ms/step - accuracy: 0.9782 - loss: 0.0543 - val_accuracy: 0.9339 - val_loss: 0.2110\n",
            "Epoch 36/50\n",
            "\u001b[1m31/31\u001b[0m \u001b[32m━━━━━━━━━━━━━━━━━━━━\u001b[0m\u001b[37m\u001b[0m \u001b[1m0s\u001b[0m 4ms/step - accuracy: 0.9734 - loss: 0.0645 - val_accuracy: 0.9256 - val_loss: 0.2696\n",
            "Epoch 37/50\n",
            "\u001b[1m31/31\u001b[0m \u001b[32m━━━━━━━━━━━━━━━━━━━━\u001b[0m\u001b[37m\u001b[0m \u001b[1m0s\u001b[0m 4ms/step - accuracy: 0.9806 - loss: 0.0538 - val_accuracy: 0.9421 - val_loss: 0.2185\n",
            "Epoch 38/50\n",
            "\u001b[1m31/31\u001b[0m \u001b[32m━━━━━━━━━━━━━━━━━━━━\u001b[0m\u001b[37m\u001b[0m \u001b[1m0s\u001b[0m 5ms/step - accuracy: 0.9679 - loss: 0.0655 - val_accuracy: 0.9421 - val_loss: 0.2257\n",
            "Epoch 39/50\n",
            "\u001b[1m31/31\u001b[0m \u001b[32m━━━━━━━━━━━━━━━━━━━━\u001b[0m\u001b[37m\u001b[0m \u001b[1m0s\u001b[0m 4ms/step - accuracy: 0.9744 - loss: 0.0608 - val_accuracy: 0.9504 - val_loss: 0.2362\n",
            "Epoch 40/50\n",
            "\u001b[1m31/31\u001b[0m \u001b[32m━━━━━━━━━━━━━━━━━━━━\u001b[0m\u001b[37m\u001b[0m \u001b[1m0s\u001b[0m 4ms/step - accuracy: 0.9948 - loss: 0.0275 - val_accuracy: 0.9504 - val_loss: 0.2337\n",
            "Epoch 41/50\n",
            "\u001b[1m31/31\u001b[0m \u001b[32m━━━━━━━━━━━━━━━━━━━━\u001b[0m\u001b[37m\u001b[0m \u001b[1m0s\u001b[0m 4ms/step - accuracy: 0.9711 - loss: 0.0680 - val_accuracy: 0.9504 - val_loss: 0.2313\n",
            "Epoch 42/50\n",
            "\u001b[1m31/31\u001b[0m \u001b[32m━━━━━━━━━━━━━━━━━━━━\u001b[0m\u001b[37m\u001b[0m \u001b[1m0s\u001b[0m 4ms/step - accuracy: 0.9665 - loss: 0.0621 - val_accuracy: 0.9504 - val_loss: 0.2202\n",
            "Epoch 43/50\n",
            "\u001b[1m31/31\u001b[0m \u001b[32m━━━━━━━━━━━━━━━━━━━━\u001b[0m\u001b[37m\u001b[0m \u001b[1m0s\u001b[0m 5ms/step - accuracy: 0.9743 - loss: 0.0513 - val_accuracy: 0.9421 - val_loss: 0.2340\n",
            "Epoch 44/50\n",
            "\u001b[1m31/31\u001b[0m \u001b[32m━━━━━━━━━━━━━━━━━━━━\u001b[0m\u001b[37m\u001b[0m \u001b[1m0s\u001b[0m 4ms/step - accuracy: 0.9639 - loss: 0.0682 - val_accuracy: 0.9421 - val_loss: 0.2450\n",
            "Epoch 45/50\n",
            "\u001b[1m31/31\u001b[0m \u001b[32m━━━━━━━━━━━━━━━━━━━━\u001b[0m\u001b[37m\u001b[0m \u001b[1m0s\u001b[0m 7ms/step - accuracy: 0.9865 - loss: 0.0469 - val_accuracy: 0.9421 - val_loss: 0.2629\n",
            "Epoch 46/50\n",
            "\u001b[1m31/31\u001b[0m \u001b[32m━━━━━━━━━━━━━━━━━━━━\u001b[0m\u001b[37m\u001b[0m \u001b[1m0s\u001b[0m 7ms/step - accuracy: 0.9731 - loss: 0.0514 - val_accuracy: 0.9421 - val_loss: 0.2661\n",
            "Epoch 47/50\n",
            "\u001b[1m31/31\u001b[0m \u001b[32m━━━━━━━━━━━━━━━━━━━━\u001b[0m\u001b[37m\u001b[0m \u001b[1m0s\u001b[0m 6ms/step - accuracy: 0.9812 - loss: 0.0519 - val_accuracy: 0.9339 - val_loss: 0.2868\n",
            "Epoch 48/50\n",
            "\u001b[1m31/31\u001b[0m \u001b[32m━━━━━━━━━━━━━━━━━━━━\u001b[0m\u001b[37m\u001b[0m \u001b[1m0s\u001b[0m 6ms/step - accuracy: 0.9811 - loss: 0.0414 - val_accuracy: 0.9339 - val_loss: 0.2937\n",
            "Epoch 49/50\n",
            "\u001b[1m31/31\u001b[0m \u001b[32m━━━━━━━━━━━━━━━━━━━━\u001b[0m\u001b[37m\u001b[0m \u001b[1m0s\u001b[0m 6ms/step - accuracy: 0.9899 - loss: 0.0338 - val_accuracy: 0.9421 - val_loss: 0.2903\n",
            "Epoch 50/50\n",
            "\u001b[1m31/31\u001b[0m \u001b[32m━━━━━━━━━━━━━━━━━━━━\u001b[0m\u001b[37m\u001b[0m \u001b[1m0s\u001b[0m 8ms/step - accuracy: 0.9832 - loss: 0.0453 - val_accuracy: 0.9421 - val_loss: 0.2904\n"
          ]
        }
      ]
    },
    {
      "cell_type": "code",
      "source": [
        "import matplotlib.pyplot as plt\n",
        "\n",
        "# Preciznost\n",
        "plt.figure(figsize=(8, 4))\n",
        "plt.plot(history.history['accuracy'], label='Trening')\n",
        "plt.plot(history.history['val_accuracy'], label='Validacija')\n",
        "plt.title('Preciznost kroz epohe')\n",
        "plt.xlabel('Epoh')\n",
        "plt.ylabel('Preciznost')\n",
        "plt.ylim(0, 1)  # skaliranje y ose\n",
        "plt.legend()\n",
        "plt.grid(True)\n",
        "plt.show()\n",
        "\n",
        "# Gubitak\n",
        "plt.figure(figsize=(8, 4))\n",
        "plt.plot(history.history['loss'], label='Trening')\n",
        "plt.plot(history.history['val_loss'], label='Validacija')\n",
        "plt.title('Gubitak kroz epohe')\n",
        "plt.xlabel('Epoh')\n",
        "plt.ylabel('Gubitak')\n",
        "plt.ylim(0, max(history.history['loss'] + history.history['val_loss']))  # dinamičko skaliranje\n",
        "plt.legend()\n",
        "plt.grid(True)\n",
        "plt.show()\n"
      ],
      "metadata": {
        "id": "UlE9HQuNTjnZ",
        "colab": {
          "base_uri": "https://localhost:8080/",
          "height": 803
        },
        "outputId": "3eb8d172-fdd6-444b-c437-5ca81ccb21d1"
      },
      "execution_count": 48,
      "outputs": [
        {
          "output_type": "display_data",
          "data": {
            "text/plain": [
              "<Figure size 800x400 with 1 Axes>"
            ],
            "image/png": "[encoded data removed]"
          },
          "metadata": {}
        },
        {
          "output_type": "display_data",
          "data": {
            "text/plain": [
              "<Figure size 800x400 with 1 Axes>"
            ],
            "image/png": "[encoded data removed]"
          },
          "metadata": {}
        }
      ]
    },
    {
      "cell_type": "code",
      "source": [
        "#Evaluacija na test skupu\n",
        "test_loss, test_acc = model.evaluate(X_test, y_test, verbose=0)\n",
        "print(f\"Tačnost na test skupu: {test_acc:.2f}\")"
      ],
      "metadata": {
        "colab": {
          "base_uri": "https://localhost:8080/"
        },
        "id": "-Coy-qKaVJqC",
        "outputId": "560d2707-2a7f-4042-e922-3d0c521ddecb"
      },
      "execution_count": 49,
      "outputs": [
        {
          "output_type": "stream",
          "name": "stdout",
          "text": [
            "Tačnost na test skupu: 0.14\n"
          ]
        }
      ]
    },
    {
      "cell_type": "code",
      "source": [
        "#cuvanje modela u .h5 formatu\n",
        "model.save(\"model_kvalitet_kafe.h5\")\n",
        "print(\"Model sačuvan kao model_kvalitet_kafe.h5\")\n"
      ],
      "metadata": {
        "colab": {
          "base_uri": "https://localhost:8080/"
        },
        "id": "PIeSfwI6VZmZ",
        "outputId": "0c5a6bc4-8680-446f-cb80-bc439046e44e"
      },
      "execution_count": 50,
      "outputs": [
        {
          "output_type": "stream",
          "name": "stderr",
          "text": [
            "WARNING:absl:You are saving your model as an HDF5 file via `model.save()` or `keras.saving.save_model(model)`. This file format is considered legacy. We recommend using instead the native Keras format, e.g. `model.save('my_model.keras')` or `keras.saving.save_model(model, 'my_model.keras')`. \n"
          ]
        },
        {
          "output_type": "stream",
          "name": "stdout",
          "text": [
            "Model sačuvan kao model_kvalitet_kafe.h5\n"
          ]
        }
      ]
    },
    {
      "cell_type": "code",
      "source": [
        "#Uzmi jedan primer iz test skupa\n",
        "import numpy as np\n",
        "\n",
        "sample = X_test_scaled[0].reshape(1, -1)\n",
        "prediction = model.predict(sample)\n",
        "\n",
        "# Mapiranje rezultata nazad u klasu\n",
        "klase = ['loša', 'srednja', 'vrhunska']\n",
        "predicted_class = klase[np.argmax(prediction)]\n",
        "\n",
        "print(f\"Model predviđa da je kafa: {predicted_class}\")\n"
      ],
      "metadata": {
        "colab": {
          "base_uri": "https://localhost:8080/"
        },
        "id": "OME4DQJSVl7d",
        "outputId": "ad2e8804-fb26-4b18-c5ca-1e3a5b853589"
      },
      "execution_count": 51,
      "outputs": [
        {
          "output_type": "stream",
          "name": "stdout",
          "text": [
            "\u001b[1m1/1\u001b[0m \u001b[32m━━━━━━━━━━━━━━━━━━━━\u001b[0m\u001b[37m\u001b[0m \u001b[1m0s\u001b[0m 67ms/step\n",
            "Model predviđa da je kafa: loša\n"
          ]
        }
      ]
    },
    {
      "cell_type": "code",
      "source": [
        "#Predikcije za ceo test skup\n",
        "y_pred_probs = model.predict(X_test_scaled)\n",
        "y_pred_classes = [klase[np.argmax(row)] for row in y_pred_probs]\n",
        "\n",
        "#cuvanje u csv file predikcije\n",
        "df_rezultat = pd.DataFrame({\n",
        "    'Predikcija': y_pred_classes\n",
        "})\n",
        "df_rezultat.to_csv(\"predikcije_kafe.csv\", index=False)\n",
        "\n",
        "print(\"Predikcije su sačuvane u predikcije_kafe.csv\")\n"
      ],
      "metadata": {
        "colab": {
          "base_uri": "https://localhost:8080/"
        },
        "id": "_I9q31PPVpri",
        "outputId": "2f88f8c8-cb2a-4bfa-c32f-f3d97998df31"
      },
      "execution_count": 52,
      "outputs": [
        {
          "output_type": "stream",
          "name": "stdout",
          "text": [
            "\u001b[1m13/13\u001b[0m \u001b[32m━━━━━━━━━━━━━━━━━━━━\u001b[0m\u001b[37m\u001b[0m \u001b[1m0s\u001b[0m 2ms/step \n",
            "Predikcije su sačuvane u predikcije_kafe.csv\n"
          ]
        }
      ]
    },
    {
      "cell_type": "code",
      "source": [
        "from sklearn.metrics import classification_report, confusion_matrix, ConfusionMatrixDisplay\n",
        "import numpy as np\n",
        "import matplotlib.pyplot as plt\n",
        "\n",
        "#Konverzija y_test iz one-hot u klase\n",
        "y_test_classes = np.argmax(y_test, axis=1)\n",
        "\n",
        "#Izveštaj klasifikacije\n",
        "print(\"Izveštaj klasifikacije:\\n\")\n",
        "print(classification_report(y_test_classes, y_pred_classes))\n",
        "\n",
        "#Confusion matrix\n",
        "cm = confusion_matrix(y_test_classes, y_pred_classes)\n",
        "disp = ConfusionMatrixDisplay(confusion_matrix=cm)\n",
        "disp.plot(cmap=plt.cm.Blues)\n",
        "plt.title(\"Matrica konfuzije\")\n",
        "plt.show()\n",
        "\n"
      ],
      "metadata": {
        "colab": {
          "base_uri": "https://localhost:8080/",
          "height": 804
        },
        "id": "dOfLjnI1pV4p",
        "outputId": "2d38cedb-a8d2-4ad9-d254-70e0cab0fbfb"
      },
      "execution_count": 54,
      "outputs": [
        {
          "output_type": "stream",
          "name": "stdout",
          "text": [
            "Izveštaj klasifikacije:\n",
            "\n",
            "              precision    recall  f1-score   support\n",
            "\n",
            "           0       0.14      1.00      0.25        56\n",
            "           1       0.00      0.00      0.00       320\n",
            "           2       0.14      0.04      0.06        26\n",
            "\n",
            "    accuracy                           0.14       402\n",
            "   macro avg       0.09      0.35      0.10       402\n",
            "weighted avg       0.03      0.14      0.04       402\n",
            "\n"
          ]
        },
        {
          "output_type": "stream",
          "name": "stderr",
          "text": [
            "/usr/local/lib/python3.11/dist-packages/sklearn/metrics/_classification.py:1565: UndefinedMetricWarning: Precision is ill-defined and being set to 0.0 in labels with no predicted samples. Use `zero_division` parameter to control this behavior.\n",
            "  _warn_prf(average, modifier, f\"{metric.capitalize()} is\", len(result))\n",
            "/usr/local/lib/python3.11/dist-packages/sklearn/metrics/_classification.py:1565: UndefinedMetricWarning: Precision is ill-defined and being set to 0.0 in labels with no predicted samples. Use `zero_division` parameter to control this behavior.\n",
            "  _warn_prf(average, modifier, f\"{metric.capitalize()} is\", len(result))\n",
            "/usr/local/lib/python3.11/dist-packages/sklearn/metrics/_classification.py:1565: UndefinedMetricWarning: Precision is ill-defined and being set to 0.0 in labels with no predicted samples. Use `zero_division` parameter to control this behavior.\n",
            "  _warn_prf(average, modifier, f\"{metric.capitalize()} is\", len(result))\n"
          ]
        },
        {
          "output_type": "display_data",
          "data": {
            "text/plain": [
              "<Figure size 640x480 with 2 Axes>"
            ],
            "image/png": "[encoded data removed]"
          },
          "metadata": {}
        }
      ]
    }
  ]
}